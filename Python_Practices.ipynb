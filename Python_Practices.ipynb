{
 "cells": [
  {
   "cell_type": "markdown",
   "metadata": {},
   "source": [
    "### Python Practices"
   ]
  },
  {
   "cell_type": "markdown",
   "metadata": {},
   "source": [
    "#### 1. Simple Math and Print"
   ]
  },
  {
   "cell_type": "markdown",
   "metadata": {},
   "source": [
    "Note: Python will not print decimals if none of the numbers is an integer.  "
   ]
  },
  {
   "cell_type": "code",
   "execution_count": null,
   "metadata": {
    "collapsed": false
   },
   "outputs": [],
   "source": [
    "a = 2\n",
    "b = 3.\n",
    "c = b/a\n",
    "print(c)"
   ]
  },
  {
   "cell_type": "markdown",
   "metadata": {},
   "source": [
    "#### 2. String: Split and Joint, Count"
   ]
  },
  {
   "cell_type": "code",
   "execution_count": null,
   "metadata": {
    "collapsed": false
   },
   "outputs": [],
   "source": [
    "text = \"The quick brown fox jumped over the lazy log.\"\n",
    "mytext = text.split()\n",
    "print(mytext)\n",
    "print(\" \".join(mytext))\n",
    "print(text.find(\"fox\"))\n",
    "\n",
    "count = 0\n",
    "for x in mytext:\n",
    "    if \"e\" in x:\n",
    "        count += 1\n",
    "        \n",
    "print(\"'e' is repeated\",count, \"times\")\n"
   ]
  },
  {
   "cell_type": "markdown",
   "metadata": {},
   "source": [
    "#### 3. User Input as Integer"
   ]
  },
  {
   "cell_type": "markdown",
   "metadata": {},
   "source": [
    "The user input is taken as \"b\" and compared to the variable \"a\"."
   ]
  },
  {
   "cell_type": "code",
   "execution_count": null,
   "metadata": {
    "collapsed": false
   },
   "outputs": [],
   "source": [
    "a = 5\n",
    "b = int(input(\"Give me a number:\"))\n",
    "if b == a:\n",
    "    print(\"Yes, right\")\n",
    "else:\n",
    "    print(\"No, No..!\")"
   ]
  },
  {
   "cell_type": "markdown",
   "metadata": {},
   "source": [
    "#### 4. Open and Read Files "
   ]
  },
  {
   "cell_type": "markdown",
   "metadata": {},
   "source": [
    "First create a file named \"ques.txt\" and enter some questions in it. Read the file then in your Python code. Consider that it is an interview and you need to register the time as well. Ask the person name first and then save the file under his name."
   ]
  },
  {
   "cell_type": "code",
   "execution_count": null,
   "metadata": {
    "collapsed": false
   },
   "outputs": [],
   "source": [
    "import datetime\n",
    "file = open('ques.txt', 'r')\n",
    "username = input(\"What is your name? \")\n",
    "myfile = open(username+\".txt\", \"a\")\n",
    "myfile.close()\n",
    "output = open(username+\".txt\", \"r+\")\n",
    "for line in file:\n",
    "    the_reply = input(line)\n",
    "    line1= line+\"{0}: {1} \\n\".format(username, the_reply)\n",
    "    output.write(line1)\n",
    "\n",
    "output.write(\"\\n\")\n",
    "output.write(\"Interview Time: \"+str(datetime.datetime.now().time()))  \n",
    "output.close()"
   ]
  },
  {
   "cell_type": "markdown",
   "metadata": {},
   "source": [
    "#### 5. Read a File "
   ]
  },
  {
   "cell_type": "markdown",
   "metadata": {
    "collapsed": true
   },
   "source": [
    "Read the file that you created line by line with answers from the interviewee. "
   ]
  },
  {
   "cell_type": "code",
   "execution_count": null,
   "metadata": {
    "collapsed": true
   },
   "outputs": [],
   "source": [
    "file = open(\"User.txt\", \"r\")\n",
    "mylines = file.readlines()\n",
    "\n",
    "for line in mylines:\n",
    "    my_next = mylines.index(line)+1\n",
    "    if \"How old are you?\" in line:\n",
    "        print(mylines[my_next])\n",
    "    if \"What is your job?\" in line:\n",
    "        print(mylines[my_next])\n",
    "    if \"Where are you from?\" in line:\n",
    "        print(mylines[my_next])\n"
   ]
  },
  {
   "cell_type": "markdown",
   "metadata": {},
   "source": [
    "#### 6. Adding Answers to Dictionary"
   ]
  },
  {
   "cell_type": "markdown",
   "metadata": {},
   "source": [
    "Create an empty dictionary and add the questions and answers to it. "
   ]
  },
  {
   "cell_type": "code",
   "execution_count": null,
   "metadata": {
    "collapsed": true
   },
   "outputs": [],
   "source": [
    "file = open(\"User.txt\", \"r\")\n",
    "mylines = file.readlines()\n",
    "mydict = {}\n",
    "for line in mylines:\n",
    "    my_next = mylines.index(line)+1\n",
    "    if \"How old are you?\" in line:\n",
    "        mydict[mylines[my_next]]=mylines.index(line)\n",
    "    if \"What is your job?\" in line:\n",
    "        mydict[mylines[my_next]]=mylines.index(line)\n",
    "    if \"Where are you from?\" in line:\n",
    "        mydict[mylines[my_next]]=mylines.index(line)\n",
    "\n",
    "print(mydict)"
   ]
  },
  {
   "cell_type": "markdown",
   "metadata": {},
   "source": [
    "#### 7. Sort the Dictionary"
   ]
  },
  {
   "cell_type": "markdown",
   "metadata": {},
   "source": [
    "To know how to sort the dict. "
   ]
  },
  {
   "cell_type": "code",
   "execution_count": null,
   "metadata": {
    "collapsed": false
   },
   "outputs": [],
   "source": [
    "file = open(\"User.txt\", \"r\")\n",
    "mylines = file.readlines()\n",
    "\n",
    "mydict = {}\n",
    "for line in mylines:\n",
    "    my_line = line.replace(\"\\n\", \"\")\n",
    "    mydict[my_line]=mylines.index(line)\n",
    "\n",
    "\n",
    "print(sorted(mydict.items(), key=lambda x: x[1]))\n"
   ]
  },
  {
   "cell_type": "markdown",
   "metadata": {},
   "source": [
    "#### 8. How to Run a Flask Webserver"
   ]
  },
  {
   "cell_type": "raw",
   "metadata": {},
   "source": [
    "A very simple web page with Flask which resolves in port 5000. Name the file \"hello.py\" and then run it with following commands:\n",
    "\n",
    "$ export FLASK_APP=hello.py\n",
    "$ flask run\n",
    "\n",
    "(public access: flask run --host=0.0.0.0)\n",
    "\n",
    "Quick start can be found here: http://flask.pocoo.org/docs/0.12/quickstart/\n"
   ]
  },
  {
   "cell_type": "code",
   "execution_count": null,
   "metadata": {
    "collapsed": false
   },
   "outputs": [],
   "source": [
    "from flask import Flask\n",
    "from flask import request\n",
    "\n",
    "app = Flask(__name__)\n",
    "\n",
    "@app.route('/')\n",
    "def index():\n",
    "    return 'Welcome'\n",
    "    \n",
    "@app.route('/login')\n",
    "def login():\n",
    "    username = request.args.get('username')\n",
    "    password = request.args.get('password')\n",
    "    return '%s is' %username\n",
    "\n",
    "@app.route('/user/<username>')\n",
    "def show_user_profile(username):\n",
    "    # show the user profile for that user\n",
    "    return '<html><body>This is a tes to see if <span style=\"font-weight:bold\">%s</span> is shown in middle of html text</body></html>' % username\n",
    "\n",
    "@app.route('/post/<int:post_id>')\n",
    "def show_post(post_id):\n",
    "    # show the post with the given id, the id is an integer\n",
    "    return 'Post %d' % post_id\n",
    "\n",
    "@app.route('/test')\n",
    "def test():\n",
    "    return 'this is a test'\n",
    "\n",
    "\n",
    "if __name__ == '__main__':\n",
    "    app.run(host='127.0.0.1', port=5000)\n"
   ]
  },
  {
   "cell_type": "markdown",
   "metadata": {},
   "source": [
    "#### 9. Command Line Arguments"
   ]
  },
  {
   "cell_type": "markdown",
   "metadata": {},
   "source": [
    "To run the code, type in the command line: \n",
    "\n",
    "$ python test.py arg1 arg2 arg3\n",
    "\n",
    "in which arguments can be for example \"user1.txt\" \"user2.txt\", etc\n"
   ]
  },
  {
   "cell_type": "code",
   "execution_count": null,
   "metadata": {
    "collapsed": false
   },
   "outputs": [],
   "source": [
    "#!/usr/bin/python\n",
    "import sys\n",
    " \n",
    "# Get the total number of args passed to the demo.py\n",
    "total = len(sys.argv)\n",
    " \n",
    "# Get the arguments list \n",
    "cmdargs = str(sys.argv)\n",
    " \n",
    "# Print it\n",
    "print (\"The total numbers of args passed to the script: %d \" % total)\n",
    "print (\"Args list: %s \" % cmdargs)\n",
    "mydict = {}\n",
    "excepts = sys.argv[0]\n",
    "sys.argv.remove(excepts)\n",
    "\n",
    "for x in sys.argv:\n",
    "    print(x, end=\" \")\n",
    "    file = open(x, \"r\")\n",
    "    f = file.readlines()\n",
    "    for line in f:\n",
    "        print(line, end=\" \")"
   ]
  },
  {
   "cell_type": "markdown",
   "metadata": {},
   "source": [
    "#### 10. Making Dictionary from a Text File"
   ]
  },
  {
   "cell_type": "markdown",
   "metadata": {},
   "source": [
    "NLTK tokenizer is used to separate the sentences. The structure is somehow what I need. It should be completed!"
   ]
  },
  {
   "cell_type": "code",
   "execution_count": null,
   "metadata": {
    "collapsed": false
   },
   "outputs": [],
   "source": [
    "import glob\n",
    "from nltk.tokenize import sent_tokenize\n",
    "\n",
    "my_files = glob.glob('Arsam.txt')\n",
    "mylist = []\n",
    "for i in my_files:\n",
    "    file = open(i, 'r')\n",
    "    data = file.read()\n",
    "    sent_tokenize_list = sent_tokenize(data)\n",
    "    count = len(sent_tokenize_list)\n",
    "    mylist.append(i)\n",
    "    for x in range(count):\n",
    "        myformat = (sent_tokenize_list[x],'MX')\n",
    "        mylist.append(myformat)\n",
    "\n",
    "    print(mylist)"
   ]
  },
  {
   "cell_type": "markdown",
   "metadata": {},
   "source": [
    "#### 11. A bit of Node.Js (Sorry Python)"
   ]
  },
  {
   "cell_type": "markdown",
   "metadata": {},
   "source": [
    "Save the code as \"server.js\" and run it with:\n",
    "    \n",
    "    $ node server.js\n",
    "    "
   ]
  },
  {
   "cell_type": "code",
   "execution_count": null,
   "metadata": {
    "collapsed": false
   },
   "outputs": [],
   "source": [
    "var express = require('express');\n",
    "var app = express();\n",
    "\n",
    "app.get('/', function (req, res) {\n",
    "   res.send('Hello World');\n",
    "})\n",
    "\n",
    "var server = app.listen(8081, function () {\n",
    "   var host = server.address().address\n",
    "   var port = server.address().port\n",
    "   \n",
    "   console.log(\"Example app listening at http://%s:%s\", host, port)\n",
    "})"
   ]
  },
  {
   "cell_type": "markdown",
   "metadata": {},
   "source": [
    "#### 12. Extract Links from a URL "
   ]
  },
  {
   "cell_type": "markdown",
   "metadata": {},
   "source": [
    "Using BeautifulSoup"
   ]
  },
  {
   "cell_type": "code",
   "execution_count": null,
   "metadata": {
    "collapsed": false
   },
   "outputs": [],
   "source": [
    "import urllib2\n",
    "from bs4 import BeautifulSoup\n",
    "url = urllib2.urlopen(\"http://aclanthology.info/\").read()\n",
    "soup = BeautifulSoup(url)\n",
    "for line in soup.find_all('bib'):\n",
    "    print(line.get('href'))"
   ]
  },
  {
   "cell_type": "markdown",
   "metadata": {},
   "source": [
    "#### 13. Idiomic Python"
   ]
  },
  {
   "cell_type": "markdown",
   "metadata": {},
   "source": [
    "Some practices for loop through data in the lists"
   ]
  },
  {
   "cell_type": "code",
   "execution_count": null,
   "metadata": {
    "collapsed": false
   },
   "outputs": [],
   "source": [
    "z = [ 'a', 'b', 'c', 'd' ]\n",
    "i = 0\n",
    "while i < len(z):\n",
    "    print(i, z[i])\n",
    "    i += 1\n",
    "    \n",
    "#adds a line between results\n",
    "print()\n",
    "\n",
    "for i in range(0, len(z)):\n",
    "    print(i, z[i])\n",
    "\n",
    "#adds a line between results\n",
    "print()    \n",
    "\n",
    "\n",
    "for i, item in enumerate(z):\n",
    "    print(i, item)\n",
    "\n",
    "#adds a line between results\n",
    "print()"
   ]
  },
  {
   "cell_type": "markdown",
   "metadata": {},
   "source": [
    "#### 14. Fun with dictionary"
   ]
  },
  {
   "cell_type": "code",
   "execution_count": 1,
   "metadata": {
    "collapsed": false
   },
   "outputs": [
    {
     "name": "stdout",
     "output_type": "stream",
     "text": [
      "{'a': 5, 'b': 4, 'c': 18}\n"
     ]
    }
   ],
   "source": [
    "e = dict(a=5, b=4, c=18)\n",
    "print(e)"
   ]
  },
  {
   "cell_type": "markdown",
   "metadata": {},
   "source": [
    "and more"
   ]
  },
  {
   "cell_type": "code",
   "execution_count": 2,
   "metadata": {
    "collapsed": false
   },
   "outputs": [
    {
     "name": "stdout",
     "output_type": "stream",
     "text": [
      "{'a': 5, 'b': 4, 'c': 18}\n"
     ]
    }
   ],
   "source": [
    "d = {}\n",
    "d['a'] = 5\n",
    "d['b'] = 4\n",
    "d['c'] = 18\n",
    "print(d)"
   ]
  },
  {
   "cell_type": "markdown",
   "metadata": {},
   "source": [
    "and even more"
   ]
  },
  {
   "cell_type": "code",
   "execution_count": 3,
   "metadata": {
    "collapsed": false
   },
   "outputs": [
    {
     "name": "stdout",
     "output_type": "stream",
     "text": [
      "dict_items([('a', 5), ('b', 4), ('c', 18)])\n"
     ]
    }
   ],
   "source": [
    "items = d.items()\n",
    "print(items)"
   ]
  },
  {
   "cell_type": "markdown",
   "metadata": {},
   "source": [
    "and get them sorted"
   ]
  },
  {
   "cell_type": "code",
   "execution_count": 4,
   "metadata": {
    "collapsed": false
   },
   "outputs": [
    {
     "name": "stdout",
     "output_type": "stream",
     "text": [
      "dict_items([('a', 5), ('b', 4), ('c', 18)])\n"
     ]
    }
   ],
   "source": [
    "sorted(items)\n",
    "print(items)"
   ]
  },
  {
   "cell_type": "markdown",
   "metadata": {
    "collapsed": true
   },
   "source": [
    "#### 15. Calculating \"Average\" and \"Standard Division\" for a list"
   ]
  },
  {
   "cell_type": "code",
   "execution_count": null,
   "metadata": {
    "collapsed": false
   },
   "outputs": [],
   "source": [
    "import math\n",
    "data = [ 1, 2, 3, 4, 5 ]\n",
    "average = sum(data) / float(len(data))\n",
    "stddev = sum([ (x - average)**2 for x in data ]) / float(len(data))\n",
    "stddev = math.sqrt(stddev)\n",
    "print(average, '+/-', stddev)"
   ]
  },
  {
   "cell_type": "markdown",
   "metadata": {},
   "source": [
    "#### 16. NLTK Corpus Add Categories"
   ]
  },
  {
   "cell_type": "code",
   "execution_count": null,
   "metadata": {
    "collapsed": false
   },
   "outputs": [],
   "source": [
    "import nltk\n",
    "from nltk.corpus import *\n",
    "corpus_root = '../Downloads/soft'\n",
    "wordlists = PlaintextCorpusReader(corpus_root, '.*')\n",
    "reader = CategorizedPlaintextCorpusReader('', r'.*\\.txt', cat_pattern=r'(\\w+)/*')\n",
    "print(reader.categories())\n"
   ]
  },
  {
   "cell_type": "markdown",
   "metadata": {},
   "source": [
    "#### 17. NLTK Stopwords Check"
   ]
  },
  {
   "cell_type": "code",
   "execution_count": null,
   "metadata": {
    "collapsed": false
   },
   "outputs": [],
   "source": [
    "import nltk\n",
    "from nltk.corpus import stopwords\n",
    "\n",
    "def content_fraction(text):\n",
    "    stopwords = nltk.corpus.stopwords.words('english')\n",
    "    words = [w for w in text.split() if w in stopwords]\n",
    "    return words\n",
    "\n",
    "print(content_fraction('This is a test for the stopwords.'))"
   ]
  },
  {
   "cell_type": "markdown",
   "metadata": {},
   "source": [
    "#### 18. Encoding in Python File"
   ]
  },
  {
   "cell_type": "markdown",
   "metadata": {},
   "source": [
    "Start the file with # -*- coding: utf-8 -*-"
   ]
  },
  {
   "cell_type": "code",
   "execution_count": null,
   "metadata": {
    "collapsed": false
   },
   "outputs": [],
   "source": [
    "# -*- coding: utf-8 -*-\n",
    "s = \"این یک تست است\"\n",
    "print(s.split())\n"
   ]
  },
  {
   "cell_type": "markdown",
   "metadata": {},
   "source": [
    "#### 19. Counting the words in a directory"
   ]
  },
  {
   "cell_type": "code",
   "execution_count": null,
   "metadata": {
    "collapsed": false
   },
   "outputs": [],
   "source": [
    "# import os\n",
    "from nltk import *\n",
    "\n",
    "counter = []\n",
    "def wordcounter(file):\n",
    "    path = '../Downloads/soft/news/'+file\n",
    "    f = open(path, 'r')\n",
    "    mylist = []\n",
    "    for word in f:\n",
    "        sublist = word_tokenize(word)\n",
    "        mylist.append(sublist)\n",
    "    list = []\n",
    "    for item in mylist:\n",
    "        for i in item:\n",
    "            if i == \"``\":\n",
    "                pass\n",
    "            elif i == ',':\n",
    "                pass\n",
    "            elif i == '.':\n",
    "                pass\n",
    "            elif i == \"''\":\n",
    "                pass\n",
    "            else:\n",
    "                list.append(i)\n",
    "    counter.append(len(list))\n",
    "    return len(list)\n",
    "\n",
    "directory = os.listdir('../Downloads/soft/news')\n",
    "for file in directory:\n",
    "    print(file, \":\", wordcounter(file), \"words\")\n",
    "    \n",
    "print(\"\\nDirectory contains\", len(counter), \"files, with a total number of\", sum(counter), \"words.\")"
   ]
  },
  {
   "cell_type": "markdown",
   "metadata": {},
   "source": [
    "#### 20. Regular Expression: Optional \"-\""
   ]
  },
  {
   "cell_type": "code",
   "execution_count": null,
   "metadata": {
    "collapsed": false
   },
   "outputs": [],
   "source": [
    "import re\n",
    "s = \"This is an email address.\".split()\n",
    "wordlist = [w for w in s  if re.search('^e-?mail$', w)]\n",
    "print(wordlist)"
   ]
  },
  {
   "cell_type": "markdown",
   "metadata": {},
   "source": [
    "#### 21. Finding and counting words in custom corpus"
   ]
  },
  {
   "cell_type": "code",
   "execution_count": null,
   "metadata": {
    "collapsed": false
   },
   "outputs": [],
   "source": [
    "from nltk.corpus import *\n",
    "import re\n",
    "corpus_root = '/home/dariush/Downloads/soft'\n",
    "wordlists = PlaintextCorpusReader(corpus_root, '.*')\n",
    "corpus = CategorizedPlaintextCorpusReader('', r'.*\\.txt', cat_pattern=r'(\\w+)/*')\n",
    "#print(corpus.categories())\n",
    "words = corpus.words(categories=['news','general'])\n",
    "found_words = [w for w in words for x in re.findall(r'stud.', w)]\n",
    "#print(sorted(found_words))\n",
    "print(nltk.FreqDist(found_words).most_common(100))\n",
    "fdist = nltk.FreqDist(sorted(found_words))\n",
    "print(fdist.N())\n",
    "fdist.tabulate()\n",
    "fdist.plot()\n",
    "for w in fdist:\n",
    "    print(w, \":\", fdist[w])"
   ]
  },
  {
   "cell_type": "markdown",
   "metadata": {},
   "source": [
    "#### 22. Concordance in custom corpus"
   ]
  },
  {
   "cell_type": "code",
   "execution_count": null,
   "metadata": {
    "collapsed": false
   },
   "outputs": [],
   "source": [
    "import nltk\n",
    "from nltk.corpus import *\n",
    "import re\n",
    "corpus_root = '/home/dariush/Downloads/soft'\n",
    "wordlists = PlaintextCorpusReader(corpus_root, '.*')\n",
    "corpus = CategorizedPlaintextCorpusReader('', r'.*\\.txt', cat_pattern=r'(\\w+)/*')\n",
    "#print(corpus.categories())\n",
    "words = corpus.words(categories=['news','general'])\n",
    "found_words = [w for w in words for x in re.findall(r'Mal', w)]\n",
    "#print(sorted(found_words))\n",
    "#print(nltk.FreqDist(found_words).most_common(100))\n",
    "fdist = nltk.FreqDist(sorted(found_words))\n",
    "#print(fdist.N())\n",
    "fdist.tabulate()\n",
    "fdist.plot()\n",
    "\n",
    "text = nltk.Text(words)\n",
    "for w in fdist:\n",
    "    text.concordance(w)"
   ]
  },
  {
   "cell_type": "markdown",
   "metadata": {
    "collapsed": true
   },
   "source": [
    "#### 23. Word Stem with NLTK"
   ]
  },
  {
   "cell_type": "code",
   "execution_count": 1,
   "metadata": {
    "collapsed": false
   },
   "outputs": [
    {
     "name": "stdout",
     "output_type": "stream",
     "text": [
      "('test', 'ed')\n",
      "('test', 's')\n",
      "('teacher', 's')\n"
     ]
    }
   ],
   "source": [
    "import nltk\n",
    "from nltk.corpus import *\n",
    "import re\n",
    "raw = \"I tested the tests for the teachers\"\n",
    "regexp = r'^(.*?)(ing|ly|ed|ious|ies|ive|es|s|ment)?$'\n",
    "tokens = nltk.word_tokenize(raw)\n",
    "list = []\n",
    "for w in tokens:\n",
    "    stem = re.findall(regexp, w)\n",
    "    list.append(stem[0])\n",
    "\n",
    "for item in list:\n",
    "    if item[1] == '':\n",
    "        pass\n",
    "    else:\n",
    "        print(item)\n"
   ]
  },
  {
   "cell_type": "markdown",
   "metadata": {
    "collapsed": true
   },
   "source": [
    "#### 24. Simple Segmentation with Zero One Pattern "
   ]
  },
  {
   "cell_type": "code",
   "execution_count": 2,
   "metadata": {
    "collapsed": false
   },
   "outputs": [
    {
     "name": "stdout",
     "output_type": "stream",
     "text": [
      "['Research', 'on', 'the', '']\n"
     ]
    }
   ],
   "source": [
    "def segment(text, segs):\n",
    "    words = []\n",
    "    last = 0\n",
    "    for i in range(len(segs)):\n",
    "        if segs[i] == '1':\n",
    "            words.append(text[last:i+1])\n",
    "            last = i+1\n",
    "    words.append(text[last:])\n",
    "    return words\n",
    "\n",
    "sent = \"Researchonthe\"\n",
    "seg2 = \"0000000101001\"\n",
    "print(segment(sent, seg2))"
   ]
  },
  {
   "cell_type": "markdown",
   "metadata": {
    "collapsed": true
   },
   "source": [
    "#### 25. Finding longest word in a text"
   ]
  },
  {
   "cell_type": "code",
   "execution_count": null,
   "metadata": {
    "collapsed": false
   },
   "outputs": [],
   "source": [
    "text = 'This is a sample text with some sentences and we are going to find the longest word in this text' \n",
    "words = text.split()\n",
    "maxlen = max(len(t) for t in words)\n",
    "longest = [w for w in words if len(w) == maxlen]\n",
    "print(longest, maxlen, 'characters')"
   ]
  },
  {
   "cell_type": "markdown",
   "metadata": {},
   "source": [
    "#### 26. Lambda usage: calculator in 2 lines"
   ]
  },
  {
   "cell_type": "code",
   "execution_count": 1,
   "metadata": {
    "collapsed": false
   },
   "outputs": [
    {
     "name": "stdout",
     "output_type": "stream",
     "text": [
      "Enter a math expression: 34/45\n",
      "0.7555555555555555\n"
     ]
    }
   ],
   "source": [
    "calculator = lambda x : print(eval(x))\n",
    "calculator(input(\"Enter a math expression: \"))"
   ]
  },
  {
   "cell_type": "markdown",
   "metadata": {},
   "source": [
    "#### 27. NLTK Str2tuple: Constructing tagged corpus"
   ]
  },
  {
   "cell_type": "code",
   "execution_count": 2,
   "metadata": {
    "collapsed": false
   },
   "outputs": [
    {
     "name": "stdout",
     "output_type": "stream",
     "text": [
      "[('The', 'AT'), ('grand', 'JJ'), ('jury', 'NN'), ('commented', 'VBD'), ('on', 'IN'), ('a', 'AT'), ('number', 'NN'), ('of', 'IN')]\n"
     ]
    }
   ],
   "source": [
    "import nltk\n",
    "\n",
    "sent = 'The/AT grand/JJ jury/NN commented/VBD on/IN a/AT number/NN of/IN'\n",
    "tagged_sent = [nltk.tag.str2tuple(w)for w in sent.split()]\n",
    "print(tagged_sent)"
   ]
  },
  {
   "cell_type": "markdown",
   "metadata": {},
   "source": [
    "#### 28. Finding the most common Tags in a custom corpus"
   ]
  },
  {
   "cell_type": "code",
   "execution_count": null,
   "metadata": {
    "collapsed": false
   },
   "outputs": [],
   "source": [
    "import nltk\n",
    "from nltk.corpus import *\n",
    "import re\n",
    "\n",
    "corpus = nltk.corpus.CategorizedPlaintextCorpusReader('',r'.*\\.txt',cat_pattern=r'(\\w+)/*')\n",
    "sents = corpus.sents(categories=['news','general'])\n",
    "tagged_sent = [nltk.pos_tag(sent) for sent in sents]\n",
    "tag_list = [tag[1][1] for tag in tagged_sent]\n",
    "fd = nltk.FreqDist(tag_list)\n",
    "print(fd.most_common())"
   ]
  },
  {
   "cell_type": "markdown",
   "metadata": {},
   "source": [
    "#### 29. Finding POS of the precedings of a word / Reverse POS search"
   ]
  },
  {
   "cell_type": "code",
   "execution_count": null,
   "metadata": {
    "collapsed": false,
    "scrolled": true
   },
   "outputs": [],
   "source": [
    "import nltk\n",
    "\n",
    "corpus = nltk.corpus.CategorizedPlaintextCorpusReader('',r'.*\\.txt',cat_pattern=r'(\\w+)/*')\n",
    "sents = corpus.sents(categories=['news','general'])\n",
    "word_tag_pairs = [nltk.pos_tag(sent) for sent in sents]\n",
    "all_tags = [w for w in word_tag_pairs]\n",
    "precedings = []\n",
    "for w in all_tags:\n",
    "    for a in w:\n",
    "        if a[1] == 'VBP':\n",
    "            current = w.index(a)\n",
    "            preceding = w[current-1]\n",
    "            precedings.append(preceding)\n",
    "            \n",
    "fdist = nltk.FreqDist([w[1] for w in precedings])\n",
    "print(fdist.most_common())\n",
    "cfd1 = nltk.ConditionalFreqDist((tag, word) for (word, tag) in precedings)\n",
    "print([w for w in cfd1['RB'].most_common()])"
   ]
  },
  {
   "cell_type": "markdown",
   "metadata": {
    "collapsed": true
   },
   "source": [
    "#### 30. Search Bigrams in corpus + POS statistics"
   ]
  },
  {
   "cell_type": "code",
   "execution_count": null,
   "metadata": {
    "collapsed": false
   },
   "outputs": [],
   "source": [
    "import nltk\n",
    "from nltk.corpus import *\n",
    "\n",
    "\n",
    "corpus = CategorizedPlaintextCorpusReader('',r'.*\\.txt', cat_pattern=r'(\\w+)/*')\n",
    "text = corpus.words(categories=['news','general'])\n",
    "bigrams = nltk.bigrams(text)\n",
    "keyword = 'which'\n",
    "bigram_list = []\n",
    "bigram_list.append([x[1] for x in bigrams if x[0] == keyword])\n",
    "print(bigram_list, '\\n\\n')\n",
    "tags = [nltk.pos_tag(word) for word in bigram_list]\n",
    "print(tags, '\\n\\n')\n",
    "taglist = [x[1] for x in tags[0]]\n",
    "fdist = nltk.FreqDist(taglist)\n",
    "fdist.tabulate()\n",
    "fdist.plot()"
   ]
  },
  {
   "cell_type": "markdown",
   "metadata": {},
   "source": [
    "#### 31. Trigram in custom corpus"
   ]
  },
  {
   "cell_type": "code",
   "execution_count": 1,
   "metadata": {
    "collapsed": false
   },
   "outputs": [
    {
     "ename": "ValueError",
     "evalue": "concat() expects at least one object!",
     "output_type": "error",
     "traceback": [
      "\u001b[0;31m---------------------------------------------------------------------------\u001b[0m",
      "\u001b[0;31mValueError\u001b[0m                                Traceback (most recent call last)",
      "\u001b[0;32m<ipython-input-1-1a724a3e632a>\u001b[0m in \u001b[0;36m<module>\u001b[0;34m()\u001b[0m\n\u001b[1;32m      8\u001b[0m \u001b[0;34m\u001b[0m\u001b[0m\n\u001b[1;32m      9\u001b[0m \u001b[0mcorpus\u001b[0m \u001b[0;34m=\u001b[0m \u001b[0mnltk\u001b[0m\u001b[0;34m.\u001b[0m\u001b[0mcorpus\u001b[0m\u001b[0;34m.\u001b[0m\u001b[0mCategorizedPlaintextCorpusReader\u001b[0m\u001b[0;34m(\u001b[0m\u001b[0;34m''\u001b[0m\u001b[0;34m,\u001b[0m\u001b[0;34mr'.*\\.txt'\u001b[0m\u001b[0;34m,\u001b[0m \u001b[0mcat_pattern\u001b[0m\u001b[0;34m=\u001b[0m\u001b[0;34mr'(\\w+)/*'\u001b[0m\u001b[0;34m)\u001b[0m\u001b[0;34m\u001b[0m\u001b[0m\n\u001b[0;32m---> 10\u001b[0;31m \u001b[0mtext\u001b[0m \u001b[0;34m=\u001b[0m \u001b[0mcorpus\u001b[0m\u001b[0;34m.\u001b[0m\u001b[0msents\u001b[0m\u001b[0;34m(\u001b[0m\u001b[0mcategories\u001b[0m\u001b[0;34m=\u001b[0m\u001b[0;34m[\u001b[0m\u001b[0;34m'news'\u001b[0m\u001b[0;34m,\u001b[0m\u001b[0;34m'general'\u001b[0m\u001b[0;34m]\u001b[0m\u001b[0;34m)\u001b[0m\u001b[0;34m\u001b[0m\u001b[0m\n\u001b[0m\u001b[1;32m     11\u001b[0m \u001b[0;32mfor\u001b[0m \u001b[0msent\u001b[0m \u001b[0;32min\u001b[0m \u001b[0mtext\u001b[0m\u001b[0;34m:\u001b[0m\u001b[0;34m\u001b[0m\u001b[0m\n\u001b[1;32m     12\u001b[0m     \u001b[0mprocess\u001b[0m\u001b[0;34m(\u001b[0m\u001b[0mnltk\u001b[0m\u001b[0;34m.\u001b[0m\u001b[0mpos_tag\u001b[0m\u001b[0;34m(\u001b[0m\u001b[0msent\u001b[0m\u001b[0;34m)\u001b[0m\u001b[0;34m)\u001b[0m\u001b[0;34m\u001b[0m\u001b[0m\n",
      "\u001b[0;32m/home/dariush/anaconda3/lib/python3.6/site-packages/nltk/corpus/reader/plaintext.py\u001b[0m in \u001b[0;36msents\u001b[0;34m(self, fileids, categories)\u001b[0m\n\u001b[1;32m    169\u001b[0m     \u001b[0;32mdef\u001b[0m \u001b[0msents\u001b[0m\u001b[0;34m(\u001b[0m\u001b[0mself\u001b[0m\u001b[0;34m,\u001b[0m \u001b[0mfileids\u001b[0m\u001b[0;34m=\u001b[0m\u001b[0;32mNone\u001b[0m\u001b[0;34m,\u001b[0m \u001b[0mcategories\u001b[0m\u001b[0;34m=\u001b[0m\u001b[0;32mNone\u001b[0m\u001b[0;34m)\u001b[0m\u001b[0;34m:\u001b[0m\u001b[0;34m\u001b[0m\u001b[0m\n\u001b[1;32m    170\u001b[0m         return PlaintextCorpusReader.sents(\n\u001b[0;32m--> 171\u001b[0;31m             self, self._resolve(fileids, categories))\n\u001b[0m\u001b[1;32m    172\u001b[0m     \u001b[0;32mdef\u001b[0m \u001b[0mparas\u001b[0m\u001b[0;34m(\u001b[0m\u001b[0mself\u001b[0m\u001b[0;34m,\u001b[0m \u001b[0mfileids\u001b[0m\u001b[0;34m=\u001b[0m\u001b[0;32mNone\u001b[0m\u001b[0;34m,\u001b[0m \u001b[0mcategories\u001b[0m\u001b[0;34m=\u001b[0m\u001b[0;32mNone\u001b[0m\u001b[0;34m)\u001b[0m\u001b[0;34m:\u001b[0m\u001b[0;34m\u001b[0m\u001b[0m\n\u001b[1;32m    173\u001b[0m         return PlaintextCorpusReader.paras(\n",
      "\u001b[0;32m/home/dariush/anaconda3/lib/python3.6/site-packages/nltk/corpus/reader/plaintext.py\u001b[0m in \u001b[0;36msents\u001b[0;34m(self, fileids)\u001b[0m\n\u001b[1;32m    101\u001b[0m         return concat([self.CorpusView(path, self._read_sent_block, encoding=enc)\n\u001b[1;32m    102\u001b[0m                        \u001b[0;32mfor\u001b[0m \u001b[0;34m(\u001b[0m\u001b[0mpath\u001b[0m\u001b[0;34m,\u001b[0m \u001b[0menc\u001b[0m\u001b[0;34m,\u001b[0m \u001b[0mfileid\u001b[0m\u001b[0;34m)\u001b[0m\u001b[0;34m\u001b[0m\u001b[0m\n\u001b[0;32m--> 103\u001b[0;31m                        in self.abspaths(fileids, True, True)])\n\u001b[0m\u001b[1;32m    104\u001b[0m \u001b[0;34m\u001b[0m\u001b[0m\n\u001b[1;32m    105\u001b[0m     \u001b[0;32mdef\u001b[0m \u001b[0mparas\u001b[0m\u001b[0;34m(\u001b[0m\u001b[0mself\u001b[0m\u001b[0;34m,\u001b[0m \u001b[0mfileids\u001b[0m\u001b[0;34m=\u001b[0m\u001b[0;32mNone\u001b[0m\u001b[0;34m)\u001b[0m\u001b[0;34m:\u001b[0m\u001b[0;34m\u001b[0m\u001b[0m\n",
      "\u001b[0;32m/home/dariush/anaconda3/lib/python3.6/site-packages/nltk/corpus/reader/util.py\u001b[0m in \u001b[0;36mconcat\u001b[0;34m(docs)\u001b[0m\n\u001b[1;32m    420\u001b[0m         \u001b[0;32mreturn\u001b[0m \u001b[0mdocs\u001b[0m\u001b[0;34m[\u001b[0m\u001b[0;36m0\u001b[0m\u001b[0;34m]\u001b[0m\u001b[0;34m\u001b[0m\u001b[0m\n\u001b[1;32m    421\u001b[0m     \u001b[0;32mif\u001b[0m \u001b[0mlen\u001b[0m\u001b[0;34m(\u001b[0m\u001b[0mdocs\u001b[0m\u001b[0;34m)\u001b[0m \u001b[0;34m==\u001b[0m \u001b[0;36m0\u001b[0m\u001b[0;34m:\u001b[0m\u001b[0;34m\u001b[0m\u001b[0m\n\u001b[0;32m--> 422\u001b[0;31m         \u001b[0;32mraise\u001b[0m \u001b[0mValueError\u001b[0m\u001b[0;34m(\u001b[0m\u001b[0;34m'concat() expects at least one object!'\u001b[0m\u001b[0;34m)\u001b[0m\u001b[0;34m\u001b[0m\u001b[0m\n\u001b[0m\u001b[1;32m    423\u001b[0m \u001b[0;34m\u001b[0m\u001b[0m\n\u001b[1;32m    424\u001b[0m     \u001b[0mtypes\u001b[0m \u001b[0;34m=\u001b[0m \u001b[0mset\u001b[0m\u001b[0;34m(\u001b[0m\u001b[0md\u001b[0m\u001b[0;34m.\u001b[0m\u001b[0m__class__\u001b[0m \u001b[0;32mfor\u001b[0m \u001b[0md\u001b[0m \u001b[0;32min\u001b[0m \u001b[0mdocs\u001b[0m\u001b[0;34m)\u001b[0m\u001b[0;34m\u001b[0m\u001b[0m\n",
      "\u001b[0;31mValueError\u001b[0m: concat() expects at least one object!"
     ]
    }
   ],
   "source": [
    "import nltk\n",
    "\n",
    "def process(sentence):\n",
    "    for (w1,t1), (w2,t2), (w3,t3) in nltk.trigrams(sentence):\n",
    "        if (t1.startswith('V') and t2 == 'TO' and t3.startswith('V')):\n",
    "            #print(sentence, '\\n')\n",
    "            print(w1, w2, w3)\n",
    "\n",
    "corpus = nltk.corpus.CategorizedPlaintextCorpusReader('',r'.*\\.txt', cat_pattern=r'(\\w+)/*')\n",
    "text = corpus.sents(categories=['news','general'])\n",
    "for sent in text:\n",
    "    process(nltk.pos_tag(sent))"
   ]
  },
  {
   "cell_type": "markdown",
   "metadata": {},
   "source": [
    "#### 32. Making list from list of lists"
   ]
  },
  {
   "cell_type": "code",
   "execution_count": 7,
   "metadata": {
    "collapsed": false
   },
   "outputs": [
    {
     "name": "stdout",
     "output_type": "stream",
     "text": [
      "['item1', 'item2', 'item3']\n"
     ]
    }
   ],
   "source": [
    "all_list = [[('item1')],[('item2')],[('item3')]]\n",
    "flat_list = [item for sublist in all_list for item in sublist]\n",
    "print(flat_list)"
   ]
  },
  {
   "cell_type": "markdown",
   "metadata": {},
   "source": [
    "#### 33. NLTK Finding Frequency"
   ]
  },
  {
   "cell_type": "code",
   "execution_count": 1,
   "metadata": {
    "collapsed": false
   },
   "outputs": [
    {
     "name": "stdout",
     "output_type": "stream",
     "text": [
      "   a test this   is  for  the \n",
      "   5    2    1    1    1    1 \n"
     ]
    }
   ],
   "source": [
    "import nltk\n",
    "sent = 'this is a a a a a test for the test'\n",
    "fdist = nltk.FreqDist(word.lower() for word in nltk.word_tokenize(sent))\n",
    "fdist.tabulate()"
   ]
  },
  {
   "cell_type": "markdown",
   "metadata": {
    "collapsed": true
   },
   "source": [
    "#### 34. Get unique values from a list"
   ]
  },
  {
   "cell_type": "code",
   "execution_count": 1,
   "metadata": {
    "collapsed": false
   },
   "outputs": [
    {
     "name": "stdout",
     "output_type": "stream",
     "text": [
      "{'JJ', 'IN', 'NN', 'VBN', 'VBZ', 'DT'}\n"
     ]
    }
   ],
   "source": [
    "tags = ['IN', 'DT', 'JJ', 'NN', 'VBZ', 'VBN', 'VBN', 'DT','IN','NN']\n",
    "tags = set(tags)\n",
    "print(tags)"
   ]
  },
  {
   "cell_type": "markdown",
   "metadata": {},
   "source": [
    "#### 35. Import CSV data and Tabulate it"
   ]
  },
  {
   "cell_type": "code",
   "execution_count": 38,
   "metadata": {
    "collapsed": false
   },
   "outputs": [
    {
     "name": "stdout",
     "output_type": "stream",
     "text": [
      "\n",
      "\n",
      " Switzerland TOP UNIVERSITIES (< 100 ) ( 2015 )\n",
      "\n",
      "  world_rank  institution                                          national_rank\n",
      "------------  -------------------------------------------------  ---------------\n",
      "          20  Swiss Federal Institute of Technology in Zurich                  1\n",
      "          91  Swiss Federal Institute of Technology in Lausanne                2\n",
      "          92  University of Geneva                                             3\n",
      "          96  University of Zurich                                             4\n",
      "\n",
      "\n",
      "WORLD TOP 100 UNIVERSITIES ( 2015 )\n",
      "\n",
      "  world_rank  institution                                        country\n",
      "------------  -------------------------------------------------  --------------\n",
      "           1  Harvard University                                 USA\n",
      "           2  Stanford University                                USA\n",
      "           3  Massachusetts Institute of Technology              USA\n",
      "           4  University of Cambridge                            United Kingdom\n",
      "           5  University of Oxford                               United Kingdom\n",
      "           6  Columbia University                                USA\n",
      "           7  University of California, Berkeley                 USA\n",
      "           8  University of Chicago                              USA\n",
      "           9  Princeton University                               USA\n",
      "          10  Cornell University                                 USA\n",
      "          11  Yale University                                    USA\n",
      "          12  California Institute of Technology                 USA\n",
      "          13  University of Tokyo                                Japan\n",
      "          14  University of Pennsylvania                         USA\n",
      "          15  University of California, Los Angeles              USA\n",
      "          16  Johns Hopkins University                           USA\n",
      "          17  Kyoto University                                   Japan\n",
      "          18  New York University                                USA\n",
      "          19  University of Michigan, Ann Arbor                  USA\n",
      "          20  Swiss Federal Institute of Technology in Zurich    Switzerland\n",
      "          21  University of California, San Diego                USA\n",
      "          22  Northwestern University                            USA\n",
      "          23  Hebrew University of Jerusalem                     Israel\n",
      "          24  Seoul National University                          South Korea\n",
      "          25  University of Wisconsin–Madison                    USA\n",
      "          26  University of California, San Francisco            USA\n",
      "          27  University College London                          United Kingdom\n",
      "          28  Duke University                                    USA\n",
      "          29  Rockefeller University                             USA\n",
      "          30  University of Texas at Austin                      USA\n",
      "          31  University of Washington - Seattle                 USA\n",
      "          32  University of Toronto                              Canada\n",
      "          33  University of Illinois at Urbana–Champaign         USA\n",
      "          34  Keio University                                    Japan\n",
      "          35  Imperial College London                            United Kingdom\n",
      "          36  École Polytechnique                                France\n",
      "          37  École normale supérieure - Paris                   France\n",
      "          38  Waseda University                                  Japan\n",
      "          39  Weizmann Institute of Science                      Israel\n",
      "          40  University of North Carolina at Chapel Hill        USA\n",
      "          41  University of Virginia                             USA\n",
      "          42  McGill University                                  Canada\n",
      "          43  Purdue University, West Lafayette                  USA\n",
      "          44  Dartmouth College                                  USA\n",
      "          45  Osaka University                                   Japan\n",
      "          46  University of Pittsburgh - Pittsburgh Campus       USA\n",
      "          47  Pennsylvania State University, University Park     USA\n",
      "          48  University of Minnesota, Twin Cities               USA\n",
      "          49  Ohio State University, Columbus                    USA\n",
      "          50  Rutgers University-New Brunswick                   USA\n",
      "          51  University of Southern California                  USA\n",
      "          52  Washington University in St. Louis                 USA\n",
      "          53  University of California, Davis                    USA\n",
      "          54  University of Colorado Boulder                     USA\n",
      "          55  University of Edinburgh                            United Kingdom\n",
      "          56  Peking University                                  China\n",
      "          57  National Taiwan University                         Taiwan\n",
      "          58  University of Paris-Sud                            France\n",
      "          59  Lomonosov Moscow State University                  Russia\n",
      "          60  University of Florida                              USA\n",
      "          61  Carnegie Mellon University                         USA\n",
      "          62  University of British Columbia                     Canada\n",
      "          63  Pierre-and-Marie-Curie University                  France\n",
      "          64  University of California, Santa Barbara            USA\n",
      "          65  National University of Singapore                   Singapore\n",
      "          66  Boston University                                  USA\n",
      "          67  University of Manchester                           United Kingdom\n",
      "          68  University of Arizona                              USA\n",
      "          69  Vanderbilt University                              USA\n",
      "          70  University of Utah                                 USA\n",
      "          71  Karolinska Institute                               Sweden\n",
      "          72  University of Maryland, College Park               USA\n",
      "          73  Tohoku University                                  Japan\n",
      "          74  University of Copenhagen                           Denmark\n",
      "          75  University of Texas Southwestern Medical Center    USA\n",
      "          76  Ruprecht Karl University of Heidelberg             Germany\n",
      "          77  University of Notre Dame                           USA\n",
      "          78  Tsinghua University                                China\n",
      "          79  Ludwig Maximilian University of Munich             Germany\n",
      "          80  Georgia Institute of Technology                    USA\n",
      "          81  University of Rochester                            USA\n",
      "          82  Katholieke Universiteit Leuven                     Belgium\n",
      "          83  Brown University                                   USA\n",
      "          84  Emory University                                   USA\n",
      "          85  Erasmus University Rotterdam                       Netherlands\n",
      "          86  Tel Aviv University                                Israel\n",
      "          87  Utrecht University                                 Netherlands\n",
      "          88  University of Sydney                               Australia\n",
      "          89  University of California, Irvine                   USA\n",
      "          90  University of Texas MD Anderson Cancer Center      USA\n",
      "          91  Swiss Federal Institute of Technology in Lausanne  Switzerland\n",
      "          92  University of Geneva                               Switzerland\n",
      "          93  University of Melbourne                            Australia\n",
      "          94  King's College London                              United Kingdom\n",
      "          95  Tufts University                                   USA\n",
      "          96  University of Zurich                               Switzerland\n",
      "          97  Arizona State University                           USA\n",
      "          98  Yonsei University                                  South Korea\n",
      "          99  University of Oslo                                 Norway\n",
      "         100  Kyushu University                                  Japan\n"
     ]
    }
   ],
   "source": [
    "import csv as csv\n",
    "from tabulate import tabulate\n",
    "from operator import itemgetter\n",
    "\n",
    "country = 'Switzerland'\n",
    "year = '2015'\n",
    "max_rank = 100\n",
    "\n",
    "readdata = csv.reader(open(\"cwurData.csv\"))\n",
    "alldata = []\n",
    "for data in readdata:\n",
    "    alldata.append(data)\n",
    "\n",
    "countrydata = alldata[1:]\n",
    "record = [(itemgetter(0,1,3)(record)) for record in countrydata if record[2] == country and record[-1] == year and int(record[0]) <= max_rank]\n",
    "print('\\n\\n', country, 'TOP UNIVERSITIES (<',max_rank,') (',year,')\\n')\n",
    "print(tabulate(record,headers=(itemgetter(0,1,3)(alldata[0]))))\n",
    "print('\\n\\nWORLD TOP', max_rank, 'UNIVERSITIES (',year,')\\n')\n",
    "data = [record[:3] for record in countrydata if int(record[0]) <= max_rank and record[-1] == year]\n",
    "print(tabulate(data,headers=alldata[0]))"
   ]
  },
  {
   "cell_type": "markdown",
   "metadata": {
    "collapsed": true
   },
   "source": [
    "#### 36. Extract and visualize data from CSV file"
   ]
  },
  {
   "cell_type": "markdown",
   "metadata": {},
   "source": [
    "    - Change the country and the number of slices in explode() adopts with the number of results \n",
    "    - Change the number of 'max_rank' to find more results\n",
    "    - Library itemgetter() helps to select specific indexes from a list, e.g. item[0], item[3] \n",
    "    - 'STRING'.title() capitalizes the first letters in the string\n",
    "    - Make a list with given string/int with \"list = ['item'] * 10\"\n",
    "    "
   ]
  },
  {
   "cell_type": "code",
   "execution_count": 2,
   "metadata": {
    "collapsed": false
   },
   "outputs": [
    {
     "name": "stdout",
     "output_type": "stream",
     "text": [
      "\n",
      "\n",
      " United Kingdom Top Universities (< 100 ) ( 2015 )\n",
      "\n",
      "  world_rank  institution                  national_rank    score\n",
      "------------  -------------------------  ---------------  -------\n",
      "           4  University of Cambridge                  1    96.81\n",
      "           5  University of Oxford                     2    96.46\n",
      "          27  University College London                3    62.27\n",
      "          35  Imperial College London                  4    59.61\n",
      "          55  University of Edinburgh                  5    54.39\n",
      "          67  University of Manchester                 6    53.38\n",
      "          94  King's College London                    7    51.31\n",
      "\n",
      "\n",
      " United Kingdom Top Universities Based on Score\n"
     ]
    },
    {
     "data": {
      "image/png": "[encoded data removed]",
      "text/plain": [
       "<matplotlib.figure.Figure at 0x7f8e44c0b588>"
      ]
     },
     "metadata": {},
     "output_type": "display_data"
    }
   ],
   "source": [
    "import csv as csv\n",
    "from tabulate import tabulate\n",
    "from operator import itemgetter\n",
    "import matplotlib.pyplot as plt\n",
    "\n",
    "country = 'United Kingdom'\n",
    "year = '2015'\n",
    "max_rank = 100\n",
    "\n",
    "readdata = csv.reader(open(\"cwurData.csv\"))\n",
    "alldata = []\n",
    "for data in readdata:\n",
    "    alldata.append(data)\n",
    "  \n",
    "title = alldata[0]\n",
    "#print(title)\n",
    "countrydata = alldata[1:]\n",
    "record = [(itemgetter(0,1,3,12)(record)) for record in countrydata if record[2] == country and record[-1] == year and int(record[0]) <= max_rank]\n",
    "print('\\n\\n', country, 'Top Universities (<',max_rank,') (',year,')\\n')\n",
    "print(tabulate(record,headers=(itemgetter(0,1,3,12)(alldata[0]))))\n",
    "\n",
    "print('\\n\\n', country, 'Top Universities Based on',title[12].title())\n",
    "# Pie chart, where the slices will be ordered and plotted counter-clockwise:\n",
    "labels = [record[1] for record in countrydata if record[2] == country and record[-1] == year and int(record[0]) <= max_rank]\n",
    "sizes = [record[12] for record in countrydata if record[2] == country and record[-1] == year and int(record[0]) <= max_rank]\n",
    "slices = [0] * len(sizes)\n",
    "explode = (slices)  \n",
    "fig1, ax1 = plt.subplots()\n",
    "ax1.pie(sizes, explode=explode, labels=labels, autopct='%1.1f%%',\n",
    "        shadow=True, startangle=90)\n",
    "ax1.axis('equal')  \n",
    "plt.show()"
   ]
  },
  {
   "cell_type": "markdown",
   "metadata": {},
   "source": [
    "#### 37. Automatic Column Extraction from CSV"
   ]
  },
  {
   "cell_type": "markdown",
   "metadata": {},
   "source": [
    "Change 'column_name' vlaue to 'citations', 'score','world_rank' etc to see a different table"
   ]
  },
  {
   "cell_type": "code",
   "execution_count": 7,
   "metadata": {
    "collapsed": false,
    "scrolled": true
   },
   "outputs": [
    {
     "name": "stdout",
     "output_type": "stream",
     "text": [
      "\n",
      "\n",
      " Germany Top Universities (< 100 ) ( 2015 )\n",
      "\n",
      "  world_rank  institution                               national_rank    score\n",
      "------------  --------------------------------------  ---------------  -------\n",
      "          76  Ruprecht Karl University of Heidelberg                1    52.32\n",
      "          79  Ludwig Maximilian University of Munich                2    52.16\n"
     ]
    }
   ],
   "source": [
    "import csv as csv\n",
    "from tabulate import tabulate\n",
    "from operator import itemgetter\n",
    "import matplotlib.pyplot as plt\n",
    "\n",
    "country = 'Germany'\n",
    "year = '2015'\n",
    "max_rank = 100\n",
    "column_name = 'score'\n",
    "\n",
    "readdata = csv.reader(open(\"cwurData.csv\"))\n",
    "alldata = []\n",
    "for data in readdata:\n",
    "    alldata.append(data)\n",
    "  \n",
    "column_title = dict([(v,k) for k, v in enumerate(alldata[0])])\n",
    "column = column_title[column_name]\n",
    "\n",
    "countrydata = alldata[1:]\n",
    "record = [(data[0],data[1],data[3],data[column]) for data in countrydata if data[2] == country and data[-1] == year and int(data[0]) <= max_rank]\n",
    "print('\\n\\n', country, 'Top Universities (<',max_rank,') (',year,')\\n')\n",
    "print(tabulate(record,headers=(itemgetter(0,1,3,column)(alldata[0]))))"
   ]
  },
  {
   "cell_type": "markdown",
   "metadata": {
    "collapsed": true
   },
   "source": [
    "#### 38. Defultdict() - Map empty dictionary entries to 0 or key"
   ]
  },
  {
   "cell_type": "code",
   "execution_count": 6,
   "metadata": {
    "collapsed": false
   },
   "outputs": [
    {
     "name": "stdout",
     "output_type": "stream",
     "text": [
      "this DT\n",
      "is UNK\n",
      "a UNK\n",
      "test ['NOUN', 'VERB']\n"
     ]
    }
   ],
   "source": [
    "from collections import defaultdict\n",
    "pos = defaultdict(lambda: 'UNK')\n",
    "sentence = 'this is a test'\n",
    "pos['this'] = 'DT'\n",
    "pos['test'] = ['NOUN','VERB']\n",
    "for word in sentence.split():\n",
    "    print(word, pos[word])"
   ]
  },
  {
   "cell_type": "markdown",
   "metadata": {
    "collapsed": true
   },
   "source": [
    "#### 39. Cleaning Punctuations from a String"
   ]
  },
  {
   "cell_type": "code",
   "execution_count": 6,
   "metadata": {
    "collapsed": false
   },
   "outputs": [
    {
     "name": "stdout",
     "output_type": "stream",
     "text": [
      "This is a list full of   punctions\n"
     ]
    }
   ],
   "source": [
    "sentence = 'This, is a list! full of . , punctions:'\n",
    "cleaned  = \"\".join(c for c in sentence if c not in ('!',':','\\'','\"','`',',','.'))\n",
    "print(cleaned)"
   ]
  },
  {
   "cell_type": "markdown",
   "metadata": {},
   "source": [
    "#### 40. Tag all sentences in corpus and taking Ngram, Bigram, Trigram, etc"
   ]
  },
  {
   "cell_type": "code",
   "execution_count": null,
   "metadata": {
    "collapsed": true
   },
   "outputs": [],
   "source": [
    "import nltk\n",
    "from nltk import word_tokenize\n",
    "from nltk.util import ngrams\n",
    "from collections import Counter\n",
    "import string\n",
    "import re\n",
    "\n",
    "corpus = nltk.corpus.CategorizedPlaintextCorpusReader('',r'.*\\.txt',cat_pattern=r'(\\w+)/*')\n",
    "sents = corpus.sents(categories=['news','general'])\n",
    "word_tag_pairs = [nltk.pos_tag(sent) for sent in sents]\n",
    "all_tags = [w for w in word_tag_pairs]\n",
    "\n",
    "cleaned_sents = []\n",
    "for sent in sents:\n",
    "    cleaned = [c for c in sent if c not in ('!',':','\\'','\"','`',',')]\n",
    "    cleaned_sent = nltk.pos_tag(cleaned)\n",
    "    cleaned_sents.append(cleaned_sent)\n",
    "\n",
    "words = []\n",
    "for entry in cleaned_sents:\n",
    "    for word in entry:\n",
    "        pattern = word[0],'/',word[1]\n",
    "        words.append(pattern)\n",
    "\n",
    "text = []\n",
    "for tagged_word in words:\n",
    "    tagged = ''.join(tagged_word)\n",
    "    text.append(tagged)\n",
    "\n",
    "tagged_text = ' '.join(text)\n",
    "#print(tagged_text)\n",
    "\n",
    "\n",
    "token = nltk.word_tokenize(tagged_text)\n",
    "bigrams = ngrams(token,2)\n",
    "trigrams = ngrams(token,3)\n",
    "fourgrams = ngrams(token,4)\n",
    "fivegrams = ngrams(token,5)\n",
    "\n",
    "\n",
    "a = Counter(fourgrams)\n",
    "freqdist = nltk.FreqDist(a)\n",
    "b = freqdist.most_common(50)\n",
    "for i in b:\n",
    "    print(i)"
   ]
  },
  {
   "cell_type": "markdown",
   "metadata": {},
   "source": [
    "#### 41. TRAIN corpus chunk + Search Chunk in Sentence"
   ]
  },
  {
   "cell_type": "code",
   "execution_count": null,
   "metadata": {
    "collapsed": false
   },
   "outputs": [],
   "source": [
    "import nltk\n",
    "from tabulate import tabulate\n",
    "from operator import itemgetter\n",
    "import matplotlib.pyplot as plt\n",
    "from nltk.util import ngrams\n",
    "from collections import Counter\n",
    "\n",
    "corpus = nltk.corpus.CategorizedPlaintextCorpusReader('',r'.*\\.txt',cat_pattern=r'(\\w+)/*')\n",
    "sents = corpus.sents(categories=['news','general'])\n",
    "word_tag_pairs = [nltk.pos_tag(sent) for sent in sents]\n",
    "all_tags = [w for w in word_tag_pairs]\n",
    "\n",
    "cleaned_sents = []\n",
    "for sent in sents:\n",
    "    cleaned = [c for c in sent if c not in ('!',':','\\'','\"','`',',')]\n",
    "    cleaned_sent = nltk.pos_tag(cleaned)\n",
    "    cleaned_sents.append(cleaned_sent)\n",
    "\n",
    "words = []\n",
    "for entry in cleaned_sents:\n",
    "    for word in entry:\n",
    "        pattern = word[0],'/',word[1]\n",
    "        words.append(pattern)\n",
    "\n",
    "text = []\n",
    "for tagged_word in words:\n",
    "    tagged = ''.join(tagged_word)\n",
    "    text.append(tagged)\n",
    "\n",
    "tagged_text = ' '.join(text)\n",
    "#print(tagged_text)\n",
    "\n",
    "\n",
    "token = nltk.word_tokenize(tagged_text)\n",
    "bigrams = ngrams(token,2)\n",
    "trigrams = ngrams(token,3)\n",
    "fourgrams = ngrams(token,4)\n",
    "fivegrams = ngrams(token,5)\n",
    "\n",
    "\n",
    "fourgram_bundle = Counter(fourgrams)\n",
    "freqdist = nltk.FreqDist(fourgram_bundle)\n",
    "bundles = freqdist.most_common(100)\n",
    "\n",
    "entries = [a for a in bundles]\n",
    "#print(tabulate(entries))\n",
    "\n",
    "\n",
    "### END OF TRAINING\n",
    "\n",
    "sentence = 'It has negative impact on us.'\n",
    "tagged_sentence = nltk.pos_tag(sentence.split())\n",
    "\n",
    "sentence_words = []\n",
    "for word in tagged_sentence:\n",
    "    pattern = word[0],'/',word[1]\n",
    "    sentence_words.append(pattern)\n",
    "\n",
    "tagged_sentence = []\n",
    "for tagged_word in sentence_words:\n",
    "    tagged = ''.join(tagged_word)\n",
    "    tagged_sentence.append(tagged)\n",
    "\n",
    "#final_tagged_sent = ' '.join(tagged_sentence)\n",
    "#print(tagged_sentence)\n",
    "\n",
    "sentence_fourgrams = ngrams(tagged_sentence,4)\n",
    "for x in sentence_fourgrams:\n",
    "    for entry in entries:\n",
    "        if entry[0] == x:\n",
    "            print(entry)"
   ]
  },
  {
   "cell_type": "markdown",
   "metadata": {
    "collapsed": false
   },
   "source": [
    "#### 42. Classifier with Ngram as the featureset"
   ]
  },
  {
   "cell_type": "code",
   "execution_count": null,
   "metadata": {
    "collapsed": false
   },
   "outputs": [],
   "source": [
    "import nltk\n",
    "from nltk import ngrams\n",
    "import random\n",
    "\n",
    "corpus = nltk.corpus.CategorizedPlaintextCorpusReader('', r'.*\\.txt', cat_pattern=r'(\\w+)/*')\n",
    "documents = [(list(corpus.words(fileid)), category)\n",
    "              for category in corpus.categories()\n",
    "              for fileid in corpus.fileids(category)]\n",
    "\n",
    "#Corpus sentences ngram\n",
    "sents = corpus.sents()\n",
    "\n",
    "stop_words = ['i', 'me', 'my', 'myself', 'we', 'our', 'ours', 'ourselves', 'you', 'your', 'yours', 'yourself', 'yourselves', 'he', 'him', 'his', 'himself', 'she', 'her', 'hers', 'herself', 'it', 'its', 'itself', 'they', 'them', 'their', 'theirs', 'themselves', 'what', 'which', 'who', 'whom', 'this', 'that', 'these', 'those', 'am', 'is', 'are', 'was', 'were', 'be', 'been', 'being', 'have', 'has', 'had', 'having', 'do', 'does', 'did', 'doing', 'a', 'an', 'the', 'and', 'but', 'if', 'or', 'because', 'as', 'until', 'while', 'of', 'at', 'by', 'for', 'with', 'about', 'against', 'between', 'into', 'through', 'during', 'before', 'after', 'above', 'below', 'to', 'from', 'up', 'down', 'in', 'out', 'on', 'off', 'over', 'under', 'again', 'further', 'then', 'once', 'here', 'there', 'when', 'where', 'why', 'how', 'all', 'any', 'both', 'each', 'few', 'more', 'most', 'other', 'some', 'such', 'no', 'nor', 'not', 'only', 'own', 'same', 'so', 'than', 'too', 'very', 's', 't', 'can', 'will', 'just', 'don', 'should', 'now', 'd', 'll', 'm', 'o', 're', 've', 'y', 'ain', 'aren', 'couldn', 'didn', 'doesn', 'hadn', 'hasn', 'haven', 'isn', 'ma', 'mightn', 'mustn', 'needn', 'shan', 'shouldn', 'wasn', 'weren', 'won', 'wouldn', '.', ',', '\"', \"'\", '?', '!', ':', ';', '(', ')', '[', ']', '{', '}']\n",
    "\n",
    "gramslist= []\n",
    "n = 1\n",
    "for sent in sents:\n",
    "    sent = [x for x in sent if x not in stop_words]\n",
    "    fourgrams = ngrams(sent, n)\n",
    "    for grams in fourgrams:\n",
    "        gramslist.append(grams)\n",
    "\n",
    "def document_features(document):\n",
    "    document_words = set(document)\n",
    "    features = {}\n",
    "    for word in gramslist:\n",
    "        features['contains({})'.format(word)] = (word in document_words)\n",
    "    return features\n",
    "\n",
    "random.shuffle(documents)\n",
    "featuresets = [(document_features(d), c) for (d,c) in documents]\n",
    "train_set, test_set = featuresets[102:], featuresets[:102]\n",
    "classifier = nltk.NaiveBayesClassifier.train(train_set)\n",
    "print(nltk.classify.accuracy(classifier, test_set))\n",
    "print(classifier.show_most_informative_features(10))"
   ]
  },
  {
   "cell_type": "code",
   "execution_count": null,
   "metadata": {
    "collapsed": true
   },
   "outputs": [],
   "source": []
  }
 ],
 "metadata": {
  "celltoolbar": "Raw Cell Format",
  "kernelspec": {
   "display_name": "Python 3",
   "language": "python",
   "name": "python3"
  },
  "language_info": {
   "codemirror_mode": {
    "name": "ipython",
    "version": 3
   },
   "file_extension": ".py",
   "mimetype": "text/x-python",
   "name": "python",
   "nbconvert_exporter": "python",
   "pygments_lexer": "ipython3",
   "version": "3.6.0"
  }
 },
 "nbformat": 4,
 "nbformat_minor": 2
}
